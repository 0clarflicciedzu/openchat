{
 "cells": [
  {
   "cell_type": "code",
   "execution_count": 3,
   "metadata": {},
   "outputs": [],
   "source": [
    "import json\n",
    "\n",
    "import transformers\n",
    "import numpy as np\n",
    "\n",
    "\n",
    "DATASET = \"../../dataset_processed/ochat.train.json\"\n",
    "TOKENIZER_NAME = \"imone/LLaMA_13B_with_EOT_token_8192_positions\""
   ]
  },
  {
   "cell_type": "code",
   "execution_count": 4,
   "metadata": {},
   "outputs": [],
   "source": [
    "# Load dataset\n",
    "with open(DATASET, \"r\") as f:\n",
    "    dataset = json.load(f)\n",
    "\n",
    "# Load tokenizer\n",
    "tokenizer = transformers.AutoTokenizer.from_pretrained(TOKENIZER_NAME)"
   ]
  },
  {
   "cell_type": "code",
   "execution_count": 14,
   "metadata": {},
   "outputs": [
    {
     "name": "stdout",
     "output_type": "stream",
     "text": [
      "24 2355.39697265625 4096\n",
      "[ 231 4858 2727 3562 1720 2677 1125 3580  932 5325  410 5426  463 1107\n",
      " 4258 1503  805 5697 3107 2853 4296 4613 1512  526 4144 5686 3711  129\n",
      "  856  307 5066 5877 3213 3856  234 3219 4641 2485 3894 4416 1332 5193\n",
      "  489 3215 2891 3162 4386  482   28 4808  402 5406 5270 1505 1865 2429\n",
      " 1526 3062 4330 1401 4761 3508 1342 1664 4608  123 4720 1128 4493  945\n",
      " 5874 2297 3136 5898  788  701 1970  493 4783 5840 5705 3850 4405 1298\n",
      " 4517 4302  356 1330 4655 4195 5865 4403 2361 5533  378   39 2225  878\n",
      "  973 1616]\n"
     ]
    }
   ],
   "source": [
    "# Length statistics\n",
    "lengths = np.array([len(tokens) for (tokens, masks) in dataset])\n",
    "\n",
    "print (np.min(lengths), np.mean(lengths), np.max(lengths))\n",
    "\n",
    "print (np.argsort(lengths)[:100])"
   ]
  },
  {
   "cell_type": "code",
   "execution_count": 36,
   "metadata": {},
   "outputs": [
    {
     "name": "stdout",
     "output_type": "stream",
     "text": [
      "<s> Human:  补写出下列句子中的空缺部分：\n",
      "李商隐《锦瑟》“\\_\\_\\_\\_、\\_\\_\\_\\_”两句中的数目字，引发了后世读者的多种解读。<|end_of_turn|>\n",
      "\n",
      " Assistant: \n",
      "=================\n",
      "李商隐《锦瑟》“锦瑟无端五十弦，一弦一柱思华年。”两句中的数目字分别为“五十”和“一”，引发了后世读者的多种解读。<|end_of_turn|>\n",
      "\n",
      "\n"
     ]
    }
   ],
   "source": [
    "# Print the supervised and unsupervised text\n",
    "sample_index = 123\n",
    "\n",
    "token_ids, masks = dataset[sample_index]\n",
    "\n",
    "token_ids = np.array(token_ids)\n",
    "masks     = np.array(masks)\n",
    "\n",
    "print(tokenizer.decode(token_ids[~masks].tolist(), spaces_between_special_tokens=False).replace(\"<|end_of_turn|>\", \"<|end_of_turn|>\\n\\n\"))\n",
    "print(\"=================\")\n",
    "print(tokenizer.decode(token_ids[masks].tolist(), spaces_between_special_tokens=False).replace(\"<|end_of_turn|>\", \"<|end_of_turn|>\\n\\n\"))"
   ]
  },
  {
   "cell_type": "code",
   "execution_count": 18,
   "metadata": {},
   "outputs": [],
   "source": []
  }
 ],
 "metadata": {
  "kernelspec": {
   "display_name": "torch",
   "language": "python",
   "name": "python3"
  },
  "language_info": {
   "codemirror_mode": {
    "name": "ipython",
    "version": 3
   },
   "file_extension": ".py",
   "mimetype": "text/x-python",
   "name": "python",
   "nbconvert_exporter": "python",
   "pygments_lexer": "ipython3",
   "version": "3.11.3"
  },
  "orig_nbformat": 4
 },
 "nbformat": 4,
 "nbformat_minor": 2
}
