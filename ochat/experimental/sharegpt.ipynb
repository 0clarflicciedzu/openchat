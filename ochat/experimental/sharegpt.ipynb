{
 "cells": [
  {
   "cell_type": "code",
   "execution_count": 1,
   "metadata": {},
   "outputs": [],
   "source": [
    "%matplotlib inline\n",
    "\n",
    "from glob import glob\n",
    "import json\n",
    "import multiprocessing as mp\n",
    "import os\n",
    "import numpy as np\n",
    "\n",
    "from bs4 import BeautifulSoup\n",
    "import matplotlib.pyplot as plt\n",
    "\n",
    "DATASET_PATTERN = \"../../dataset/ShareGPT/*.txt\""
   ]
  },
  {
   "cell_type": "code",
   "execution_count": 2,
   "metadata": {},
   "outputs": [],
   "source": [
    "# Multiprocess data loading\n",
    "def _load_data_worker(pipe: mp.Pipe):\n",
    "    jobs = pipe.recv()\n",
    "    result = []\n",
    "\n",
    "    for filename in jobs:\n",
    "        with open(filename) as f:\n",
    "            bs = BeautifulSoup(f, \"html.parser\", from_encoding=\"utf-8\")\n",
    "\n",
    "        json_content = bs.find(\"script\", {\"id\": \"__NEXT_DATA__\"})\n",
    "        result.append(json.loads(json_content.decode_contents()))\n",
    "\n",
    "    pipe.send(result)\n",
    "\n",
    "\n",
    "def _split_list(a: list, n: int):\n",
    "    # Split list a to n chunks\n",
    "    # https://stackoverflow.com/questions/2130016/splitting-a-list-into-n-parts-of-approximately-equal-length\n",
    "\n",
    "    k, m = divmod(len(a), n)\n",
    "    return [a[i*k+min(i, m): (i+1)*k+min(i+1, m)] for i in range(n)]\n",
    "\n",
    "\n",
    "def load_data(filename_list, n_jobs=os.cpu_count() - 1):\n",
    "    pipes = []\n",
    "    for text_chunk in _split_list(filename_list, n_jobs):\n",
    "        pipe_master, pipe_child = mp.Pipe()\n",
    "        mp.Process(target=_load_data_worker, args=(pipe_child, )).start()\n",
    "\n",
    "        pipe_master.send(text_chunk)\n",
    "        pipes.append(pipe_master)\n",
    "\n",
    "    result = []\n",
    "    for pipe in pipes:\n",
    "        result.extend(pipe.recv())\n",
    "\n",
    "    return result\n",
    "\n",
    "\n",
    "# Read all data\n",
    "dataset = load_data(glob(DATASET_PATTERN))"
   ]
  },
  {
   "cell_type": "code",
   "execution_count": 3,
   "metadata": {},
   "outputs": [
    {
     "name": "stdout",
     "output_type": "stream",
     "text": [
      "Num of GPT-4:  6745\n"
     ]
    }
   ],
   "source": [
    "# GPT-4 statistics\n",
    "\n",
    "models = [x[\"props\"][\"pageProps\"].get(\"content\", {}).get(\"model\") for x in dataset]\n",
    "\n",
    "print (\"Num of GPT-4: \", len([x for x in models if x == \"Model: GPT-4\"]))"
   ]
  },
  {
   "cell_type": "code",
   "execution_count": 10,
   "metadata": {},
   "outputs": [
    {
     "data": {
      "text/plain": [
       "20"
      ]
     },
     "execution_count": 10,
     "metadata": {},
     "output_type": "execute_result"
    }
   ],
   "source": [
    "# View statistics\n",
    "\n",
    "views = np.array([x[\"props\"][\"pageProps\"].get(\"views\", 0) for x in dataset])\n",
    "\n",
    "np.sort(views)[-5000]\n"
   ]
  },
  {
   "cell_type": "code",
   "execution_count": 5,
   "metadata": {},
   "outputs": [
    {
     "name": "stdout",
     "output_type": "stream",
     "text": [
      "../../dataset/ShareGPT/8qTtJXe.txt\n",
      "../../dataset/ShareGPT/DoscKXg.txt\n",
      "../../dataset/ShareGPT/sLrHEWi.txt\n"
     ]
    }
   ],
   "source": [
    "file_list = glob(DATASET_PATTERN)\n",
    "\n",
    "for idx, x in enumerate(dataset):\n",
    "    if \"content\" not in x[\"props\"][\"pageProps\"]:\n",
    "        print(file_list[idx])"
   ]
  },
  {
   "cell_type": "code",
   "execution_count": 14,
   "metadata": {},
   "outputs": [
    {
     "data": {
      "text/plain": [
       "1"
      ]
     },
     "execution_count": 14,
     "metadata": {},
     "output_type": "execute_result"
    }
   ],
   "source": [
    "dataset[0][\"props\"][\"pageProps\"][\"views\"]"
   ]
  }
 ],
 "metadata": {
  "kernelspec": {
   "display_name": "jax",
   "language": "python",
   "name": "python3"
  },
  "language_info": {
   "codemirror_mode": {
    "name": "ipython",
    "version": 3
   },
   "file_extension": ".py",
   "mimetype": "text/x-python",
   "name": "python",
   "nbconvert_exporter": "python",
   "pygments_lexer": "ipython3",
   "version": "3.10.11"
  },
  "orig_nbformat": 4
 },
 "nbformat": 4,
 "nbformat_minor": 2
}
